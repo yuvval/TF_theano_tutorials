{
 "cells": [
  {
   "cell_type": "markdown",
   "metadata": {},
   "source": [
    "# TF tutrial with Theano"
   ]
  },
  {
   "cell_type": "code",
   "execution_count": 29,
   "metadata": {
    "collapsed": false
   },
   "outputs": [],
   "source": [
    "%matplotlib inline\n",
    "import matplotlib.pyplot as plt"
   ]
  },
  {
   "cell_type": "code",
   "execution_count": 30,
   "metadata": {
    "collapsed": false
   },
   "outputs": [
    {
     "name": "stdout",
     "output_type": "stream",
     "text": [
      "Extracting MNIST_data/train-images-idx3-ubyte.gz\n",
      "Extracting MNIST_data/train-labels-idx1-ubyte.gz\n",
      "Extracting MNIST_data/t10k-images-idx3-ubyte.gz\n",
      "Extracting MNIST_data/t10k-labels-idx1-ubyte.gz\n"
     ]
    }
   ],
   "source": [
    "# Load MNIST Data\n",
    "from tensorflow.examples.tutorials.mnist import input_data\n",
    "mnist = input_data.read_data_sets('MNIST_data', one_hot=True)"
   ]
  },
  {
   "cell_type": "code",
   "execution_count": 31,
   "metadata": {
    "collapsed": true
   },
   "outputs": [],
   "source": [
    "import numpy as np\n",
    "import theano.tensor as T\n",
    "import theano "
   ]
  },
  {
   "cell_type": "code",
   "execution_count": 32,
   "metadata": {
    "collapsed": true
   },
   "outputs": [],
   "source": [
    "x = T.dmatrix('x') # shape=[None, 784]\n",
    "y_ = T.dmatrix('y_') # gt labels shape=[None, 10] #one-hot 10-dimensional vector indicating digit class\n"
   ]
  },
  {
   "cell_type": "code",
   "execution_count": 33,
   "metadata": {
    "collapsed": false
   },
   "outputs": [],
   "source": [
    "W = theano.shared(np.zeros([784,10]))\n",
    "b = theano.shared(np.zeros([10,]))"
   ]
  },
  {
   "cell_type": "code",
   "execution_count": 34,
   "metadata": {
    "collapsed": true
   },
   "outputs": [],
   "source": [
    "#y = tf.nn.softmax(tf.matmul(x,W) + b)\n",
    "y = T.nnet.softmax(theano.dot(x,W) + b)"
   ]
  },
  {
   "cell_type": "code",
   "execution_count": 35,
   "metadata": {
    "collapsed": false
   },
   "outputs": [
    {
     "name": "stdout",
     "output_type": "stream",
     "text": [
      "(784, 10)\n"
     ]
    }
   ],
   "source": [
    "print W.get_value().shape"
   ]
  },
  {
   "cell_type": "raw",
   "metadata": {},
   "source": [
    "@TF:\n",
    "cross_entropy = tf.reduce_mean(-tf.reduce_sum(y_ * tf.log(y), reduction_indices=[1])) \n",
    "# tf.reduce_sum sums across all classes and tf.reduce_mean takes the average over these sums"
   ]
  },
  {
   "cell_type": "code",
   "execution_count": 36,
   "metadata": {
    "collapsed": true
   },
   "outputs": [],
   "source": [
    "cross_entropy = T.mean(-T.sum(y_*T.log(y),1))"
   ]
  },
  {
   "cell_type": "code",
   "execution_count": 37,
   "metadata": {
    "collapsed": false
   },
   "outputs": [],
   "source": [
    "#f = theano.function([x, y_], cross_entropy)\n",
    "#f(np.ones([2,784]), np.ones([2,10]))\n",
    "#f(x_in, gt_in)\n",
    "#f = theano.function([x], y)\n",
    "#f(x_in)"
   ]
  },
  {
   "cell_type": "code",
   "execution_count": 38,
   "metadata": {
    "collapsed": false
   },
   "outputs": [],
   "source": [
    "gw, gb = T.grad(cross_entropy, [W, b]) \n"
   ]
  },
  {
   "cell_type": "code",
   "execution_count": 39,
   "metadata": {
    "collapsed": false
   },
   "outputs": [],
   "source": [
    "#train = theano.function([x, y_], None, updates=[(W,W-0.1*gw), (b, b-0.1*gb)])\n",
    "train = theano.function([x, y_], cross_entropy, updates=[(W,W-0.1*gw), (b, b-0.1*gb)])\n"
   ]
  },
  {
   "cell_type": "code",
   "execution_count": 40,
   "metadata": {
    "collapsed": false
   },
   "outputs": [],
   "source": [
    "batch = mnist.train.next_batch(50)\n",
    "x_in = np.asarray(batch[0])\n",
    "gt_in = np.asarray(batch[1])\n"
   ]
  },
  {
   "cell_type": "code",
   "execution_count": 41,
   "metadata": {
    "collapsed": false
   },
   "outputs": [
    {
     "name": "stdout",
     "output_type": "stream",
     "text": [
      "Softmax [id A] ''   \n",
      " |Elemwise{add,no_inplace} [id B] ''   \n",
      "   |dot [id C] ''   \n",
      "   | |x [id D]\n",
      "   | |<TensorType(float64, matrix)> [id E]\n",
      "   |DimShuffle{x,0} [id F] ''   \n",
      "     |<TensorType(float64, vector)> [id G]\n"
     ]
    }
   ],
   "source": [
    "theano.printing.debugprint(y)"
   ]
  },
  {
   "cell_type": "code",
   "execution_count": 42,
   "metadata": {
    "collapsed": false
   },
   "outputs": [],
   "source": [
    "err = []\n",
    "for i in range(1000):\n",
    "    batch = mnist.train.next_batch(50)\n",
    "    x_in = np.asarray(batch[0])\n",
    "    gt_in = np.asarray(batch[1])\n",
    "    err += [train(x_in, gt_in)]\n",
    "    #x: batch[0], y_: batch[1]"
   ]
  },
  {
   "cell_type": "code",
   "execution_count": 43,
   "metadata": {
    "collapsed": false
   },
   "outputs": [
    {
     "data": {
      "text/plain": [
       "[<matplotlib.lines.Line2D at 0x7f1cef44d090>]"
      ]
     },
     "execution_count": 43,
     "metadata": {},
     "output_type": "execute_result"
    },
    {
     "data": {
      "image/png": "[encoded data removed]",
      "text/plain": [
       "<matplotlib.figure.Figure at 0x7f1ce90ee310>"
      ]
     },
     "metadata": {},
     "output_type": "display_data"
    }
   ],
   "source": [
    "plt.plot(err)\n"
   ]
  },
  {
   "cell_type": "code",
   "execution_count": 44,
   "metadata": {
    "collapsed": true
   },
   "outputs": [],
   "source": [
    "#correct_prediction = tf.equal(tf.argmax(y,1), tf.argmax(y_,1))\n",
    "correct_prediction = T.eq(T.argmax(y,1), T.argmax(y_,1))"
   ]
  },
  {
   "cell_type": "code",
   "execution_count": 45,
   "metadata": {
    "collapsed": false
   },
   "outputs": [],
   "source": [
    "#accuracy = tf.reduce_mean(tf.cast(correct_prediction, tf.float32))\n",
    "accuracy = T.mean(correct_prediction)"
   ]
  },
  {
   "cell_type": "code",
   "execution_count": 46,
   "metadata": {
    "collapsed": false
   },
   "outputs": [
    {
     "data": {
      "text/plain": [
       "array(0.9077)"
      ]
     },
     "execution_count": 46,
     "metadata": {},
     "output_type": "execute_result"
    }
   ],
   "source": [
    "#print(accuracy.eval(feed_dict={x: mnist.test.images, y_: mnist.test.labels}))\n",
    "accuracy.eval({x: mnist.test.images, y_: mnist.test.labels})"
   ]
  },
  {
   "cell_type": "markdown",
   "metadata": {},
   "source": [
    "## Visualizations for debugging\n",
    "[Theano debugging FAQ](http://deeplearning.net/software/theano/tutorial/debug_faq.html)"
   ]
  },
  {
   "cell_type": "markdown",
   "metadata": {},
   "source": [
    "The following requires a special package that is conflict and therefore install under \"tmp\" conda env\n",
    "need to run before jupyter: \"source activate tmp\""
   ]
  },
  {
   "cell_type": "code",
   "execution_count": 47,
   "metadata": {
    "collapsed": false
   },
   "outputs": [
    {
     "name": "stdout",
     "output_type": "stream",
     "text": [
      "The output file is available at pics/logreg_pydotprint_prediction.png\n"
     ]
    }
   ],
   "source": [
    "# the following requires a special package that is conflict and therefore install under \"tmp\" conda env\n",
    "# need to run before jupyter: \"source activate tmp\"\n",
    "theano.printing.pydotprint(y, outfile=\"pics/logreg_pydotprint_prediction.png\", var_with_name_simple=True)"
   ]
  },
  {
   "cell_type": "raw",
   "metadata": {},
   "source": [
    "![](pics/logreg_pydotprint_prediction.png)"
   ]
  },
  {
   "cell_type": "markdown",
   "metadata": {},
   "source": [
    "<img src=\"pics/logreg_pydotprint_prediction.png\", width=500, height=500>"
   ]
  },
  {
   "cell_type": "code",
   "execution_count": 49,
   "metadata": {
    "collapsed": false
   },
   "outputs": [
    {
     "name": "stdout",
     "output_type": "stream",
     "text": [
      "The output file is available at pics/logreg_pydotprint_prediction_post_compile.png\n"
     ]
    }
   ],
   "source": [
    "predict = theano.function([x], y, name = \"predict\")\n",
    "theano.printing.pydotprint(y, outfile=\"pics/logreg_pydotprint_prediction_post_compile.png\", var_with_name_simple=True)"
   ]
  },
  {
   "cell_type": "code",
   "execution_count": 54,
   "metadata": {
    "collapsed": false
   },
   "outputs": [],
   "source": [
    "#Image(filename = \"pics/logreg_pydotprint_prediction_post_compile.png\", width=500, height=500)\n",
    "#<img src=\"pics/logreg_pydotprint_prediction_post_compile.png\", width=500, height=500>"
   ]
  },
  {
   "cell_type": "code",
   "execution_count": 55,
   "metadata": {
    "collapsed": false
   },
   "outputs": [
    {
     "name": "stdout",
     "output_type": "stream",
     "text": [
      "The output file is available at pics/logreg_pydotprint_train.png\n"
     ]
    }
   ],
   "source": [
    "theano.printing.pydotprint(train, outfile=\"pics/logreg_pydotprint_train.png\", var_with_name_simple=True)"
   ]
  },
  {
   "cell_type": "code",
   "execution_count": 53,
   "metadata": {
    "collapsed": false
   },
   "outputs": [],
   "source": [
    "# the following requires a special package that is conflict and therefore install under \"tmp\" conda env\n",
    "# need to run before jupyter: \"source activate tmp\"\n",
    "import theano.d3viz as d3v\n",
    "d3v.d3viz(y, 'pics/logreg_y.html')\n",
    "#!firefox pics/logreg_y.html"
   ]
  },
  {
   "cell_type": "markdown",
   "metadata": {
    "collapsed": true
   },
   "source": [
    "Result are [here](pics/logreg_y.html)"
   ]
  },
  {
   "cell_type": "code",
   "execution_count": null,
   "metadata": {
    "collapsed": true
   },
   "outputs": [],
   "source": []
  }
 ],
 "metadata": {
  "kernelspec": {
   "display_name": "Python 2",
   "language": "python",
   "name": "python2"
  },
  "language_info": {
   "codemirror_mode": {
    "name": "ipython",
    "version": 2
   },
   "file_extension": ".py",
   "mimetype": "text/x-python",
   "name": "python",
   "nbconvert_exporter": "python",
   "pygments_lexer": "ipython2",
   "version": "2.7.11"
  }
 },
 "nbformat": 4,
 "nbformat_minor": 0
}
